{
  "nbformat": 4,
  "nbformat_minor": 0,
  "metadata": {
    "colab": {
      "provenance": [],
      "collapsed_sections": [
        "db3V3mESvTFv",
        "7dMAcJSxv8JO",
        "zks7KUgQwf6x",
        "Gw2QR7n-w_VW",
        "9KOASDznuful",
        "6Gk4bEbd0o-P",
        "QPSko0Gg0_1F",
        "q5lMfOXl7ZH3",
        "IHGVzrTz8H-J"
      ]
    },
    "kernelspec": {
      "name": "python3",
      "display_name": "Python 3"
    },
    "language_info": {
      "name": "python"
    }
  },
  "cells": [
    {
      "cell_type": "markdown",
      "source": [
        "# Introduction to Python Decorators\n",
        "\n",
        "* A Python decorator is a design pattern that allows you to modify the functionality of a function by wrapping it in another function.\n",
        "* The outer function is called the decorator, which takes the original function as an argument and returns a modified version of it.\n",
        "* Decorators are commonly used for tasks such as logging, timing, authentication, and validation, as they provide a clean and modular way to add these functionalities to functions or methods without modifying their code directly."
      ],
      "metadata": {
        "id": "ayUka7iBuf2v"
      }
    },
    {
      "cell_type": "markdown",
      "source": [
        "# Prerequisites for learning decorators\n",
        "\n",
        "Before we learn about decorators, we need to understand a few important concepts related to `Python functions`. Also, remember that `evreything in Python is an object`, even functions are objects."
      ],
      "metadata": {
        "id": "db3V3mESvTFv"
      }
    },
    {
      "cell_type": "markdown",
      "source": [
        "## Nested Function\n",
        "We can include one function inside another, known as a nested function.\n",
        "\n"
      ],
      "metadata": {
        "id": "7dMAcJSxv8JO"
      }
    },
    {
      "cell_type": "code",
      "source": [
        "def outer(x):\n",
        "    def inner(y):\n",
        "        return x + y\n",
        "    return inner\n",
        "\n",
        "add_five = outer(5)\n",
        "result = add_five(6)\n",
        "print(result) \n",
        "\n",
        "# Output: 11"
      ],
      "metadata": {
        "colab": {
          "base_uri": "https://localhost:8080/"
        },
        "id": "51hLbOviwAf9",
        "outputId": "1d56c4ba-51bd-4591-fa6f-03a02b022479"
      },
      "execution_count": null,
      "outputs": [
        {
          "output_type": "stream",
          "name": "stdout",
          "text": [
            "11\n"
          ]
        }
      ]
    },
    {
      "cell_type": "markdown",
      "source": [
        "##Pass Function as Argument\n",
        "We can pass a function as an argument to another function in Python."
      ],
      "metadata": {
        "id": "zks7KUgQwf6x"
      }
    },
    {
      "cell_type": "code",
      "source": [
        "def add(x, y):\n",
        "    return x + y\n",
        "\n",
        "def calculate(func, x, y):\n",
        "    return func(x, y)\n",
        "\n",
        "result = calculate(add, 4, 6)\n",
        "print(result) "
      ],
      "metadata": {
        "colab": {
          "base_uri": "https://localhost:8080/"
        },
        "id": "TQIqRZMAwobe",
        "outputId": "feb8984f-e931-4adb-dd1d-a5cf0562e212"
      },
      "execution_count": null,
      "outputs": [
        {
          "output_type": "stream",
          "name": "stdout",
          "text": [
            "10\n"
          ]
        }
      ]
    },
    {
      "cell_type": "markdown",
      "source": [
        "##Return a Function as a Value\n",
        "In Python, we can also return a function as a return value."
      ],
      "metadata": {
        "id": "Gw2QR7n-w_VW"
      }
    },
    {
      "cell_type": "code",
      "source": [
        "def greeting(name):\n",
        "    def hello():\n",
        "        return \"Hello, \" + name + \"!\"\n",
        "    return hello\n",
        "\n",
        "greet = greeting(\"Mohammad\")\n",
        "print(greet())  \n",
        "\n",
        "# Output: Hello, Mohammad!"
      ],
      "metadata": {
        "colab": {
          "base_uri": "https://localhost:8080/"
        },
        "id": "54ibDNinwoOl",
        "outputId": "6ba19a40-8e3c-4fa9-9c26-450303058b8b"
      },
      "execution_count": null,
      "outputs": [
        {
          "output_type": "stream",
          "name": "stdout",
          "text": [
            "Hello, Mohammad!\n"
          ]
        }
      ]
    },
    {
      "cell_type": "markdown",
      "source": [
        "# Python Decorators\n",
        "* As mentioned earlier, A Python decorator is a function that takes in a function and returns it by adding some functionality.\n",
        "* also decorator wrap other function and enhance their behaviour\n",
        "\n",
        "  * In the context of Python decorators, the term \"wrap\" refers to the process of adding additional functionality or behavior to a function by enclosing it within another function. The outer function, which is the decorator, takes the original function as an argument, adds or modifies its behavior, and returns a new function that incorporates the changes. The new function, also known as the decorated function, is then used in place of the original function, effectively enhancing its behavior without \n",
        "modifying its code directly.\n",
        "\n",
        "* Basically, a decorator takes in a function, adds some functionality and returns it."
      ],
      "metadata": {
        "id": "9KOASDznuful"
      }
    },
    {
      "cell_type": "code",
      "execution_count": null,
      "metadata": {
        "id": "Qt7i5Hhos4Vg"
      },
      "outputs": [],
      "source": [
        "def make_pretty(func):\n",
        "    def inner():\n",
        "        print(\"I got decorated\")\n",
        "        func()\n",
        "    return inner\n",
        "\n",
        "\n",
        "def ordinary():\n",
        "    print(\"I am ordinary\")\n",
        "\n",
        "# Output: I am ordinary"
      ]
    },
    {
      "cell_type": "markdown",
      "source": [
        "Here, we have created two functions:\n",
        "\n",
        "* `ordinary()` that prints \"I am ordinary\"\n",
        "* `make_pretty()` that takes a function as its argument and has a nested function named `inner()`, and returns the inner function.\n",
        "\n",
        "We are calling the `ordinary()` function normally, so we get the output \"I am ordinary\"."
      ],
      "metadata": {
        "id": "rHcOfpYXzhBo"
      }
    },
    {
      "cell_type": "markdown",
      "source": [
        "Now, let's call it using the decorator function."
      ],
      "metadata": {
        "id": "i5QS2CXxzu6b"
      }
    },
    {
      "cell_type": "code",
      "source": [
        "def make_pretty(func):\n",
        "    # define the inner function \n",
        "    def inner():\n",
        "        # add some additional behavior to decorated function\n",
        "        print(\"I got decorated\")\n",
        "\n",
        "        # call original function\n",
        "        func()\n",
        "    # return the inner function\n",
        "    return inner\n",
        "\n",
        "# define ordinary function\n",
        "def ordinary():\n",
        "    print(\"I am ordinary\")\n",
        "    \n",
        "# decorate the ordinary function\n",
        "decorated_func = make_pretty(ordinary)\n",
        "\n",
        "# call the decorated function\n",
        "decorated_func()"
      ],
      "metadata": {
        "colab": {
          "base_uri": "https://localhost:8080/"
        },
        "id": "eHkBwD1CzdpK",
        "outputId": "e608319a-d108-4e74-aa1b-7c4a3a0895f2"
      },
      "execution_count": null,
      "outputs": [
        {
          "output_type": "stream",
          "name": "stdout",
          "text": [
            "I got decorated\n",
            "I am ordinary\n"
          ]
        }
      ]
    },
    {
      "cell_type": "markdown",
      "source": [
        "In the example shown above, `make_pretty()` is a decorator. Notice the code,\n",
        "```\n",
        "decorated_func = make_pretty(ordinary)\n",
        "\n",
        "```\n",
        "* We are now passing the `ordinary()` function as the argument to the `make_pretty()`.\n",
        "* The `make_pretty()` function returns the inner function, and it is now assigned to the decorated_func variable.\n",
        "\n",
        "```\n",
        "decorated_func()\n",
        "```\n",
        "* Here, we are actually calling the inner() function, where we are printing\n"
      ],
      "metadata": {
        "id": "xrAOJNXh0Cfz"
      }
    },
    {
      "cell_type": "markdown",
      "source": [
        "## **@** Symbol With Decorator\n",
        "\n",
        "Instead of assigning the function call to a variable, Python provides a much more elegant way to achieve this functionality using the @ symbol."
      ],
      "metadata": {
        "id": "6Gk4bEbd0o-P"
      }
    },
    {
      "cell_type": "code",
      "source": [
        "def make_pretty(func):\n",
        "\n",
        "    def inner():\n",
        "        print(\"I got decorated\")\n",
        "        func()\n",
        "    return inner\n",
        "\n",
        "@make_pretty\n",
        "def ordinary():\n",
        "    print(\"I am ordinary\")\n",
        "\n",
        "ordinary()  "
      ],
      "metadata": {
        "colab": {
          "base_uri": "https://localhost:8080/"
        },
        "id": "a1Uz8rUqzdmI",
        "outputId": "64ffb1ce-c575-426c-9ddd-9c5305d2d3a7"
      },
      "execution_count": null,
      "outputs": [
        {
          "output_type": "stream",
          "name": "stdout",
          "text": [
            "I got decorated\n",
            "I am ordinary\n"
          ]
        }
      ]
    },
    {
      "cell_type": "markdown",
      "source": [
        "## Decorating Functions with Parameters\n",
        "The above decorator was simple and it only worked with functions that did not have any parameters. \n",
        "\n",
        "What if we had functions that took in parameters like:\n",
        "```\n",
        "def divide(a, b):\n",
        "    return a/b\n",
        "```\n",
        "* This function has two parameters, a and b. We know it will give an error if we pass in b as 0."
      ],
      "metadata": {
        "id": "QPSko0Gg0_1F"
      }
    },
    {
      "cell_type": "markdown",
      "source": [
        "Now let's make a decorator to check for this case that will cause the error.\n"
      ],
      "metadata": {
        "id": "FXEhHZO01bZH"
      }
    },
    {
      "cell_type": "code",
      "source": [
        "def smart_divide(func):\n",
        "    def inner(a, b):\n",
        "        print(\"I am going to divide\", a, \"and\", b)\n",
        "        if b == 0:\n",
        "            print(\"Whoops! cannot divide\")\n",
        "            return\n",
        "\n",
        "        return func(a, b)\n",
        "    return inner\n",
        "\n",
        "@smart_divide\n",
        "def divide(a, b):\n",
        "    print(a/b)\n",
        "\n",
        "divide(2,5)\n",
        "\n",
        "divide(2,0)"
      ],
      "metadata": {
        "colab": {
          "base_uri": "https://localhost:8080/"
        },
        "id": "ZaHzOP7Z0_mO",
        "outputId": "35cb5972-a612-46bf-e7a6-05108ab964be"
      },
      "execution_count": null,
      "outputs": [
        {
          "output_type": "stream",
          "name": "stdout",
          "text": [
            "I am going to divide 2 and 5\n",
            "0.4\n",
            "I am going to divide 2 and 0\n",
            "Whoops! cannot divide\n"
          ]
        }
      ]
    },
    {
      "cell_type": "markdown",
      "source": [
        "* Here, when we call the `divide()` function with the arguments `(2,5)`, the `inner()` function defined in the `smart_divide()` decorator is called instead.\n",
        "\n",
        "* This `inner()` function calls the original `divide()` function with the arguments `2` and `5` and returns the result, which is `0.4`.\n",
        "\n",
        "* Similarly, When we call the `divide()` function with the arguments `(2,0)`, the `inner()` function checks that `b` is equal to `0` and prints an error message before returning None."
      ],
      "metadata": {
        "id": "Xa7w38lg1ucc"
      }
    },
    {
      "cell_type": "markdown",
      "source": [
        "## Chaining Decorators in Python\n",
        "\n",
        "Multiple decorators can be chained in Python.\n",
        "\n",
        "To chain decorators in Python, we can apply multiple decorators to a single function by placing them one after the other, with the most inner decorator being applied first."
      ],
      "metadata": {
        "id": "zBQ32D7d2ZFn"
      }
    },
    {
      "cell_type": "code",
      "source": [
        "def star(func):\n",
        "    def inner(*args, **kwargs):\n",
        "        print(\"*\" * 15)\n",
        "        func(*args, **kwargs)\n",
        "        print(\"*\" * 15)\n",
        "    return inner\n",
        "\n",
        "\n",
        "def percent(func):\n",
        "    def inner(*args, **kwargs):\n",
        "        print(\"%\" * 15)\n",
        "        func(*args, **kwargs)\n",
        "        print(\"%\" * 15)\n",
        "    return inner\n",
        "\n",
        "\n",
        "@star\n",
        "@percent\n",
        "def printer(msg):\n",
        "    print(msg)\n",
        "\n",
        "printer(\"Hello\")"
      ],
      "metadata": {
        "colab": {
          "base_uri": "https://localhost:8080/"
        },
        "id": "-fcgku6M0_iY",
        "outputId": "052f0d8c-fa20-4c26-f41a-209418a47aba"
      },
      "execution_count": null,
      "outputs": [
        {
          "output_type": "stream",
          "name": "stdout",
          "text": [
            "***************\n",
            "%%%%%%%%%%%%%%%\n",
            "Hello\n",
            "%%%%%%%%%%%%%%%\n",
            "***************\n"
          ]
        }
      ]
    },
    {
      "cell_type": "markdown",
      "source": [
        "The above syntax of,\n",
        "```\n",
        "@star\n",
        "@percent\n",
        "def printer(msg):\n",
        "    print(msg)\n",
        "```\n",
        "is equivalent to\n",
        "```\n",
        "def printer(msg):\n",
        "    print(msg)\n",
        "printer = star(percent(printer))\n",
        "```"
      ],
      "metadata": {
        "id": "OkYgUPiS5j-L"
      }
    },
    {
      "cell_type": "markdown",
      "source": [
        "This code defines two decorators, `star` and `percent`, and a function `printer` that is decorated by both decorators. When the `printer` function is called with the argument `\"Hello\"`, the following happens:\n",
        "\n",
        "1. The `printer` function is first passed to the `percent` decorator, which returns the `inner` function defined inside `percent`.\n",
        "\n",
        "2. The `inner` function of the `percent` decorator is then passed to the `star` decorator, which returns the `inner` function defined inside `star`.\n",
        "\n",
        "3. When the decorated `printer` function is called with the argument `\"Hello\"`, it actually calls the `inner` function of the `star` decorator.\n",
        "\n",
        "4. The `inner` function of the `star` decorator prints 15 asterisks `(*)` before calling the `inner` function of the `percent` decorator with the same argument `\"Hello\"`.\n",
        "\n",
        "5. The `inner` function of the `percent` decorator prints 15 percent signs `(%)` before calling the original `printer` function with the same argument `\"Hello\"`.\n",
        "\n",
        "6. The original `printer` function prints the message `\"Hello\"`.\n",
        "\n",
        "7. After the original `printer` function returns, control goes back to the `inner` function of the `percent` decorator, which prints another 15 percent signs `(%)` before returning.\n",
        "\n",
        "8. Control then goes back to the `inner` function of the `star` decorator, which prints another 15 asterisks `(*)` before returning."
      ],
      "metadata": {
        "id": "LVDAy-4M3wwl"
      }
    },
    {
      "cell_type": "markdown",
      "source": [
        "# @tf.function in TensorFlow"
      ],
      "metadata": {
        "id": "IKvg6mOp7Uu8"
      }
    },
    {
      "cell_type": "markdown",
      "source": [
        "## Introduction to @tf.function in TensorFlow\n",
        "\n",
        "* `@tf.function` is a decorator provided by TensorFlow, which allows you to define and optimize TensorFlow graph computations using eager execution. Eager execution is the default mode in TensorFlow where operations are executed immediately and the results are returned. However, when using @tf.function, TensorFlow compiles the computation into a graph, which is a static representation of the computation, optimized for performance.\n",
        "\n",
        "* When you use `@tf.function` to decorate a function, TensorFlow automatically traces the function and builds a graph representation of it. This graph can be reused for subsequent calls, which can significantly speed up the execution of the function, especially in cases where the function is called multiple times with different inputs."
      ],
      "metadata": {
        "id": "PY6ng5zK6kGW"
      }
    },
    {
      "cell_type": "markdown",
      "source": [
        "## How to use @tf.function and its benefits\n",
        "\n",
        "Using @tf.function is straightforward. You simply need to define a function using the regular Python syntax and then decorate it with @tf.function as shown in the example below:"
      ],
      "metadata": {
        "id": "q5lMfOXl7ZH3"
      }
    },
    {
      "cell_type": "code",
      "source": [
        "import tensorflow as tf\n",
        "\n",
        "@tf.function\n",
        "def add(a, b):\n",
        "    return a + b\n",
        "\n",
        "add(tf.ones([2, 2]), tf.ones([2, 2]))"
      ],
      "metadata": {
        "id": "VNYPrTVG5ICI",
        "colab": {
          "base_uri": "https://localhost:8080/"
        },
        "outputId": "6e0a356a-7d93-43ea-a434-469d24f583e9"
      },
      "execution_count": 9,
      "outputs": [
        {
          "output_type": "execute_result",
          "data": {
            "text/plain": [
              "<tf.Tensor: shape=(2, 2), dtype=float32, numpy=\n",
              "array([[2., 2.],\n",
              "       [2., 2.]], dtype=float32)>"
            ]
          },
          "metadata": {},
          "execution_count": 9
        }
      ]
    },
    {
      "cell_type": "code",
      "source": [
        "# Define a simple function to compute the sum of squares\n",
        "\n",
        "@tf.function\n",
        "def sum_of_squares(x, y):\n",
        "    result = tf.square(x) + tf.square(y)\n",
        "    return result\n",
        "\n",
        "# Invoke the function with TensorFlow tensors\n",
        "a = tf.constant(3.0)\n",
        "b = tf.constant(4.0)\n",
        "c = sum_of_squares(a, b)\n",
        "\n",
        "print(c.numpy())  # Print the result"
      ],
      "metadata": {
        "colab": {
          "base_uri": "https://localhost:8080/"
        },
        "id": "QjvvJsjd84re",
        "outputId": "2ab2388c-1e30-4b66-cb8f-8ebd7d980060"
      },
      "execution_count": 10,
      "outputs": [
        {
          "output_type": "stream",
          "name": "stdout",
          "text": [
            "25.0\n"
          ]
        }
      ]
    },
    {
      "cell_type": "markdown",
      "source": [
        "* In this example, the `sum_of_squares` function is decorated with `@tf.function`. When this function is invoked with TensorFlow tensors as inputs, TensorFlow will automatically convert the function into a graph representation optimized for performance. The resulting graph can be executed multiple times with different inputs without the overhead of tracing the function to a graph each time, which can lead to improved performance compared to eager execution mode.\n",
        "\n",
        "*  that `@tf.function` can also be used with functions that take NumPy arrays or regular Python values as inputs. TensorFlow will automatically convert these inputs into appropriate tensor representations for graph execution. Additionally, `@tf.function` can also be used with functions that have control flow statements `(e.g., if-else, loops)`, making it a powerful tool for optimizing complex computations in TensorFlow."
      ],
      "metadata": {
        "id": "X7CLMt7R88Em"
      }
    },
    {
      "cell_type": "markdown",
      "source": [
        "* Once decorated with @tf.function, you can call the function just like any other Python function. TensorFlow will automatically compile the computation into a graph and optimize it for performance.\n",
        "\n",
        ">The benefits of using @tf.function are:<br><br>\n",
        "* Improved performance: Since the computation is compiled into a graph, it can be optimized for performance, which can result in faster execution times, especially for complex computations or large datasets.<br><br>\n",
        "* Graph reusability: The compiled graph can be reused for subsequent calls with different inputs, which can save computational overhead, especially in scenarios where the function is called multiple times.<br><br>\n",
        "* Support for TensorFlow features: @tf.function supports most TensorFlow features, such as automatic differentiation, variable tracking, and control flow operations, allowing you to use it with a wide range of TensorFlow workflows.<br><br>\n",
        "* Easier integration with TensorFlow ecosystem: @tf.function can be used seamlessly with other TensorFlow APIs, such as Keras, Estimators, and TensorFlow Probability, making it a powerful tool for building complex machine learning models and workflows.\n"
      ],
      "metadata": {
        "id": "32kN5rWH7qbR"
      }
    },
    {
      "cell_type": "markdown",
      "source": [
        "# Conclusion"
      ],
      "metadata": {
        "id": "IHGVzrTz8H-J"
      }
    },
    {
      "cell_type": "markdown",
      "source": [
        "Python decorators and @tf.function in TensorFlow are powerful tools that allow you to extend the behavior of functions or methods and optimize the performance of TensorFlow computations. Decorators provide a clean and modular way to add additional functionality to functions, while @tf.function allows you to compile computations into a graph for improved performance and reusability. By leveraging these features, you can write more efficient and scalable TensorFlow code."
      ],
      "metadata": {
        "id": "TDqBOfQq8Pud"
      }
    }
  ]
}